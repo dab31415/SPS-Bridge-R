{
  "nbformat": 4,
  "nbformat_minor": 0,
  "metadata": {
    "colab": {
      "name": "Math HW1.ipynb",
      "provenance": [],
      "collapsed_sections": [],
      "authorship_tag": "ABX9TyPL4o/Vx7NUDFBOtplM0ybF",
      "include_colab_link": true
    },
    "kernelspec": {
      "name": "python3",
      "display_name": "Python 3"
    },
    "language_info": {
      "name": "python"
    }
  },
  "cells": [
    {
      "cell_type": "markdown",
      "metadata": {
        "id": "view-in-github",
        "colab_type": "text"
      },
      "source": [
        "<a href=\"https://colab.research.google.com/github/dab31415/SPS-Bridge-R/blob/main/Math_HW1.ipynb\" target=\"_parent\"><img src=\"https://colab.research.google.com/assets/colab-badge.svg\" alt=\"Open In Colab\"/></a>"
      ]
    },
    {
      "cell_type": "markdown",
      "metadata": {
        "id": "A197pM4Z2ijm"
      },
      "source": [
        "Math HW1<br>\n",
        "Donald Butler<br>\n",
        "07/25/2021"
      ]
    },
    {
      "cell_type": "markdown",
      "metadata": {
        "id": "Anjzg6Ej21A7"
      },
      "source": [
        "##Chapter 1.  Programming Challenge 1 page 22, Even-Odd Vending Machine"
      ]
    },
    {
      "cell_type": "code",
      "metadata": {
        "colab": {
          "base_uri": "https://localhost:8080/"
        },
        "id": "EW2HQIjZ2hYu",
        "outputId": "bab9f824-ff0d-4e5c-92fc-cbc8d0af15c4"
      },
      "source": [
        "def vending_machine(n):\n",
        "  if n % 2 == 0:\n",
        "    print('even')\n",
        "  else:\n",
        "    print('odd')\n",
        "  \n",
        "  print(*range(n,n+20,2),sep=\", \")\n",
        "\n",
        "vending_machine(5)\n",
        "vending_machine(12)\n"
      ],
      "execution_count": 3,
      "outputs": [
        {
          "output_type": "stream",
          "text": [
            "odd\n",
            "5, 7, 9, 11, 13, 15, 17, 19, 21, 23\n",
            "even\n",
            "12, 14, 16, 18, 20, 22, 24, 26, 28, 30\n"
          ],
          "name": "stdout"
        }
      ]
    },
    {
      "cell_type": "markdown",
      "metadata": {
        "id": "v0VUNY3A58Rq"
      },
      "source": [
        "##Chapter 2.  Programming Challenge 2 page 55, Exploring a Quadratic Function Visually"
      ]
    },
    {
      "cell_type": "code",
      "metadata": {
        "colab": {
          "base_uri": "https://localhost:8080/",
          "height": 265
        },
        "id": "upD8nmAa6Emy",
        "outputId": "f8458971-9cae-4f32-ced3-c971fdb92c82"
      },
      "source": [
        "from pylab import plot, show \n",
        "\n",
        "x_values = range(-1,9)\n",
        "y_values = []\n",
        "for x in x_values:\n",
        "  y = x**2 + 2*x + 1\n",
        "  y_values.append(y)\n",
        "\n",
        "plot(x_values,y_values, marker='+')\n",
        "show()\n"
      ],
      "execution_count": 10,
      "outputs": [
        {
          "output_type": "display_data",
          "data": {
            "image/png": "[encoded data removed]",
            "text/plain": [
              "<Figure size 432x288 with 1 Axes>"
            ]
          },
          "metadata": {
            "tags": [],
            "needs_background": "light"
          }
        }
      ]
    },
    {
      "cell_type": "markdown",
      "metadata": {
        "id": "Emxu3ux_AipX"
      },
      "source": [
        "##Chapter 3.  Programming Challenge 2 page 89, Statistics Calculator"
      ]
    },
    {
      "cell_type": "code",
      "metadata": {
        "id": "XbPRupmzAm0O"
      },
      "source": [
        ""
      ],
      "execution_count": null,
      "outputs": []
    }
  ]
}