{
  "nbformat": 4,
  "nbformat_minor": 0,
  "metadata": {
    "colab": {
      "name": "Math HW1.ipynb",
      "provenance": [],
      "collapsed_sections": [],
      "authorship_tag": "ABX9TyPWJQwDeX3ZkWXUjBXmlAGG",
      "include_colab_link": true
    },
    "kernelspec": {
      "name": "python3",
      "display_name": "Python 3"
    },
    "language_info": {
      "name": "python"
    }
  },
  "cells": [
    {
      "cell_type": "markdown",
      "metadata": {
        "id": "view-in-github",
        "colab_type": "text"
      },
      "source": [
        "<a href=\"https://colab.research.google.com/github/dab31415/SPS-Bridge-R/blob/main/Math_HW1.ipynb\" target=\"_parent\"><img src=\"https://colab.research.google.com/assets/colab-badge.svg\" alt=\"Open In Colab\"/></a>"
      ]
    },
    {
      "cell_type": "markdown",
      "metadata": {
        "id": "A197pM4Z2ijm"
      },
      "source": [
        "Math HW1<br>\n",
        "Donald Butler<br>\n",
        "07/25/2021"
      ]
    },
    {
      "cell_type": "markdown",
      "metadata": {
        "id": "Anjzg6Ej21A7"
      },
      "source": [
        "##Chapter 1.  Programming Challenge 1 page 22, Even-Odd Vending Machine"
      ]
    },
    {
      "cell_type": "code",
      "metadata": {
        "colab": {
          "base_uri": "https://localhost:8080/"
        },
        "id": "EW2HQIjZ2hYu",
        "outputId": "66886052-5060-4c99-d010-96b19d3f87ae"
      },
      "source": [
        "def vending_machine(n):\n",
        "  if n % 2 == 0:\n",
        "    print('even')\n",
        "  else:\n",
        "    print('odd')\n",
        "  \n",
        "  print(*range(n,n+20,2),sep=\", \")\n",
        "\n",
        "vending_machine(5)\n"
      ],
      "execution_count": 2,
      "outputs": [
        {
          "output_type": "stream",
          "text": [
            "odd\n",
            "5, 7, 9, 11, 13, 15, 17, 19, 21, 23\n"
          ],
          "name": "stdout"
        }
      ]
    },
    {
      "cell_type": "markdown",
      "metadata": {
        "id": "v0VUNY3A58Rq"
      },
      "source": [
        "##Chapter 2.  Programming Challenge 2 page 55, Exploring a Quadratic Function Visually"
      ]
    },
    {
      "cell_type": "code",
      "metadata": {
        "id": "upD8nmAa6Emy"
      },
      "source": [
        ""
      ],
      "execution_count": null,
      "outputs": []
    }
  ]
}